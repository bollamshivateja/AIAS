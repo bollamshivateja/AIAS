{
  "cells": [
    {
      "cell_type": "markdown",
      "metadata": {
        "id": "view-in-github",
        "colab_type": "text"
      },
      "source": [
        "<a href=\"https://colab.research.google.com/github/bollamshivateja/AIAS/blob/main/Lab2_3.ipynb\" target=\"_parent\"><img src=\"https://colab.research.google.com/assets/colab-badge.svg\" alt=\"Open In Colab\"/></a>"
      ]
    },
    {
      "cell_type": "markdown",
      "source": [
        "Task Description#1\n",
        "\n",
        "● Use Google Gemini in Colab to write a function that reads a CSV file and calculatesmean, min, max.\n",
        "\n",
        "Expected Output#1\n",
        "\n",
        "● Functional code with output and screenshot"
      ],
      "metadata": {
        "id": "Gntr7uSHPuUu"
      }
    },
    {
      "cell_type": "markdown",
      "metadata": {
        "id": "59041448"
      },
      "source": [
        "First, let's generate some sample data and save it to a CSV file so we have a file to read."
      ]
    },
    {
      "cell_type": "code",
      "metadata": {
        "colab": {
          "base_uri": "https://localhost:8080/"
        },
        "id": "4b97f2d1",
        "outputId": "54052091-05da-4733-ee49-9c97078934d2"
      },
      "source": [
        "import pandas as pd\n",
        "import numpy as np\n",
        "\n",
        "# Generate some sample data\n",
        "data = {\n",
        "    'col1': np.random.rand(100),\n",
        "    'col2': np.random.randint(0, 100, 100),\n",
        "    'col3': np.random.randn(100)\n",
        "}\n",
        "sample_df = pd.DataFrame(data)\n",
        "\n",
        "# Save the sample data to a CSV file\n",
        "csv_file_path = 'sample_data.csv'\n",
        "sample_df.to_csv(csv_file_path, index=False)\n",
        "\n",
        "print(f\"Sample data saved to {csv_file_path}\")"
      ],
      "execution_count": null,
      "outputs": [
        {
          "output_type": "stream",
          "name": "stdout",
          "text": [
            "Sample data saved to sample_data.csv\n"
          ]
        }
      ]
    },
    {
      "cell_type": "markdown",
      "metadata": {
        "id": "f40f7c22"
      },
      "source": [
        "Now, let's define a function that reads the CSV file and calculates the mean, min, and max values for a specified column."
      ]
    },
    {
      "cell_type": "code",
      "metadata": {
        "id": "8dcb290a"
      },
      "source": [
        "import pandas as pd\n",
        "\n",
        "def analyze_csv_column(file_path, column_name):\n",
        "  \"\"\"\n",
        "  Reads a CSV file and calculates the mean, min, and max of a specified column.\n",
        "\n",
        "  Args:\n",
        "    file_path (str): The path to the CSV file.\n",
        "    column_name (str): The name of the column to analyze.\n",
        "\n",
        "  Returns:\n",
        "    tuple: A tuple containing the mean, min, and max values of the column,\n",
        "           or None if an error occurs or the column is not found.\n",
        "  \"\"\"\n",
        "  try:\n",
        "    df = pd.read_csv(file_path)\n",
        "\n",
        "    if column_name not in df.columns:\n",
        "      print(f\"Error: Column '{column_name}' not found in the CSV file.\")\n",
        "      return None\n",
        "\n",
        "    # Ensure the column is numeric, coercing errors\n",
        "    numeric_column = pd.to_numeric(df[column_name], errors='coerce')\n",
        "\n",
        "    # Drop rows where coercion resulted in NaN (non-numeric values)\n",
        "    numeric_column = numeric_column.dropna()\n",
        "\n",
        "    if numeric_column.empty:\n",
        "        print(f\"Warning: Column '{column_name}' contains no valid numeric data after cleaning.\")\n",
        "        return None\n",
        "\n",
        "    mean_val = numeric_column.mean()\n",
        "    min_val = numeric_column.min()\n",
        "    max_val = numeric_column.max()\n",
        "\n",
        "    return mean_val, min_val, max_val\n",
        "\n",
        "  except FileNotFoundError:\n",
        "    print(f\"Error: File not found at '{file_path}'\")\n",
        "    return None\n",
        "  except Exception as e:\n",
        "    print(f\"An error occurred: {e}\")\n",
        "    return None"
      ],
      "execution_count": null,
      "outputs": []
    },
    {
      "cell_type": "markdown",
      "metadata": {
        "id": "bc823310"
      },
      "source": [
        "Finally, let's call the function with the sample data file and a column name to demonstrate its usage and display the results."
      ]
    },
    {
      "cell_type": "code",
      "metadata": {
        "colab": {
          "base_uri": "https://localhost:8080/"
        },
        "id": "59f002f3",
        "outputId": "07a1fb06-fbcd-424c-9f58-71d431830577"
      },
      "source": [
        "# Replace 'sample_data.csv' with your CSV file path and 'col1' with your column name\n",
        "file_path = '/content/Lab2_3.csv'\n",
        "column_to_analyze = 'Marks'\n",
        "\n",
        "results = analyze_csv_column(file_path, column_to_analyze)\n",
        "\n",
        "if results:\n",
        "  mean_val, min_val, max_val = results\n",
        "  print(f\"Analysis of column '{column_to_analyze}':\")\n",
        "  print(f\"Mean: {mean_val}\")\n",
        "  print(f\"Min: {min_val}\")\n",
        "  print(f\"Max: {max_val}\")\n"
      ],
      "execution_count": null,
      "outputs": [
        {
          "output_type": "stream",
          "name": "stdout",
          "text": [
            "Analysis of column 'Marks':\n",
            "Mean: 10.88888888888889\n",
            "Min: 1\n",
            "Max: 25\n"
          ]
        }
      ]
    },
    {
      "cell_type": "markdown",
      "source": [
        "Task Description#2\n",
        "\n",
        "● Compare Gemini and Copilot outputs for a palindrome check function.\n",
        "\n",
        "Expected Output#2\n",
        "\n",
        "● Side-by-side comparison and observations"
      ],
      "metadata": {
        "id": "NwUmYRTzRjJl"
      }
    },
    {
      "cell_type": "code",
      "metadata": {
        "colab": {
          "base_uri": "https://localhost:8080/"
        },
        "id": "de778224",
        "outputId": "39d98335-f7c8-457b-d92d-6a95dc778e4b"
      },
      "source": [
        "def is_palindrome_number(number):\n",
        "  \"\"\"\n",
        "  Checks if a given number is a palindrome.\n",
        "\n",
        "  Args:\n",
        "    number (int): The number to check.\n",
        "\n",
        "  Returns:\n",
        "    bool: True if the number is a palindrome, False otherwise.\n",
        "  \"\"\"\n",
        "  # Convert the number to a string\n",
        "  num_str = str(number)\n",
        "\n",
        "  # Reverse the string\n",
        "  reversed_str = num_str[::-1]\n",
        "\n",
        "  # Check if the original string is equal to the reversed string\n",
        "  return num_str == reversed_str\n",
        "\n",
        "# Example usage:\n",
        "num1 = 121\n",
        "num2 = 12345\n",
        "num3 = 12321\n",
        "\n",
        "print(f\"{num1} is a palindrome: {is_palindrome_number(num1)}\")\n",
        "print(f\"{num2} is a palindrome: {is_palindrome_number(num2)}\")\n",
        "print(f\"{num3} is a palindrome: {is_palindrome_number(num3)}\")"
      ],
      "execution_count": null,
      "outputs": [
        {
          "output_type": "stream",
          "name": "stdout",
          "text": [
            "121 is a palindrome: True\n",
            "12345 is a palindrome: False\n",
            "12321 is a palindrome: True\n"
          ]
        }
      ]
    },
    {
      "cell_type": "markdown",
      "source": [
        "Task Description#3\n",
        "\n",
        "● Ask Gemini to explain a Python function (to calculate area of various shapes) line by line..\n",
        "\n",
        "Expected Output#3\n",
        "\n",
        "● Detailed explanation with code snippet"
      ],
      "metadata": {
        "id": "jB_rBQRWR-4h"
      }
    },
    {
      "cell_type": "code",
      "metadata": {
        "colab": {
          "base_uri": "https://localhost:8080/"
        },
        "id": "96a01d97",
        "outputId": "5509f2b3-d652-4e73-d2ec-d48b558d9f08"
      },
      "source": [
        "import math\n",
        "\n",
        "def calculate_area(shape, **kwargs):\n",
        "  \"\"\"\n",
        "  Calculates the area of various shapes.\n",
        "\n",
        "  Args:\n",
        "    shape (str): The name of the shape ('square', 'rectangle', 'circle').\n",
        "    **kwargs: Keyword arguments for the shape's dimensions (e.g., side, length, width, radius).\n",
        "\n",
        "  Returns:\n",
        "    float: The area of the shape, or None if the shape is not supported or dimensions are missing.\n",
        "  \"\"\"\n",
        "  if shape == 'square':\n",
        "    if 'side' in kwargs:\n",
        "      side = kwargs['side']\n",
        "      return side * side\n",
        "    else:\n",
        "      print(\"Error: Missing 'side' argument for square.\")\n",
        "      return None\n",
        "  elif shape == 'rectangle':\n",
        "    if 'length' in kwargs and 'width' in kwargs:\n",
        "      length = kwargs['length']\n",
        "      width = kwargs['width']\n",
        "      return length * width\n",
        "    else:\n",
        "      print(\"Error: Missing 'length' or 'width' argument for rectangle.\")\n",
        "      return None\n",
        "  elif shape == 'circle':\n",
        "    if 'radius' in kwargs:\n",
        "      radius = kwargs['radius']\n",
        "      return math.pi * radius**2\n",
        "    else:\n",
        "      print(\"Error: Missing 'radius' argument for circle.\")\n",
        "      return None\n",
        "  else:\n",
        "    print(f\"Error: Unsupported shape '{shape}'.\")\n",
        "    return None\n",
        "\n",
        "# Example usage:\n",
        "print(f\"Area of square with side 5: {calculate_area('square', side=5)}\")\n",
        "print(f\"Area of rectangle with length 4 and width 6: {calculate_area('rectangle', length=4, width=6)}\")\n",
        "print(f\"Area of circle with radius 3: {calculate_area('circle', radius=3)}\")\n",
        "print(f\"Area of triangle with base 5 and height 10: {calculate_area('triangle', base=5, height=10)}\") # Example of unsupported shape"
      ],
      "execution_count": null,
      "outputs": [
        {
          "output_type": "stream",
          "name": "stdout",
          "text": [
            "Area of square with side 5: 25\n",
            "Area of rectangle with length 4 and width 6: 24\n",
            "Area of circle with radius 3: 28.274333882308138\n",
            "Error: Unsupported shape 'triangle'.\n",
            "Area of triangle with base 5 and height 10: None\n"
          ]
        }
      ]
    },
    {
      "cell_type": "markdown",
      "source": [
        "Task Description#5\n",
        "\n",
        "● Student need to write code to calculate sum of add number and even numbers in the list\n",
        "\n",
        "Expected Output#5\n",
        "\n",
        "● Refactored code written by student with improved logic"
      ],
      "metadata": {
        "id": "IriIuV11SU33"
      }
    },
    {
      "cell_type": "code",
      "metadata": {
        "id": "9a8a82f4",
        "outputId": "d8cdd121-37d4-458b-a394-4419cf31e829",
        "colab": {
          "base_uri": "https://localhost:8080/"
        }
      },
      "source": [
        "def sum_odd_even(numbers):\n",
        "  \"\"\"\n",
        "  Calculates the sum of odd and even numbers in a list.\n",
        "\n",
        "  Args:\n",
        "    numbers (list): A list of numbers.\n",
        "\n",
        "  Returns:\n",
        "    tuple: A tuple containing the sum of odd numbers and the sum of even numbers.\n",
        "  \"\"\"\n",
        "  sum_odd = 0\n",
        "  sum_even = 0\n",
        "  for number in numbers:\n",
        "    if number % 2 == 0:\n",
        "      sum_even += number\n",
        "    else:\n",
        "      sum_odd += number\n",
        "  return sum_odd, sum_even\n",
        "\n",
        "# Example usage:\n",
        "my_list = [1, 2, 3, 4, 5, 6, 7, 8, 9, 10]\n",
        "odd_sum, even_sum = sum_odd_even(my_list)\n",
        "\n",
        "print(f\"List: {my_list}\")\n",
        "print(f\"Sum of odd numbers: {odd_sum}\")\n",
        "print(f\"Sum of even numbers: {even_sum}\")\n",
        "\n",
        "my_list2 = [15, 22, 37, 48, 51, 66]\n",
        "odd_sum2, even_sum2 = sum_odd_even(my_list2)\n",
        "\n",
        "print(f\"\\nList: {my_list2}\")\n",
        "print(f\"Sum of odd numbers: {odd_sum2}\")\n",
        "print(f\"Sum of even numbers: {even_sum2}\")"
      ],
      "execution_count": null,
      "outputs": [
        {
          "output_type": "stream",
          "name": "stdout",
          "text": [
            "List: [1, 2, 3, 4, 5, 6, 7, 8, 9, 10]\n",
            "Sum of odd numbers: 25\n",
            "Sum of even numbers: 30\n",
            "\n",
            "List: [15, 22, 37, 48, 51, 66]\n",
            "Sum of odd numbers: 103\n",
            "Sum of even numbers: 136\n"
          ]
        }
      ]
    }
  ],
  "metadata": {
    "colab": {
      "provenance": [],
      "include_colab_link": true
    },
    "kernelspec": {
      "display_name": "Python 3",
      "name": "python3"
    }
  },
  "nbformat": 4,
  "nbformat_minor": 0
}